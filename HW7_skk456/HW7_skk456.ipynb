{
 "cells": [
  {
   "cell_type": "code",
   "execution_count": 1,
   "metadata": {
    "collapsed": false
   },
   "outputs": [
    {
     "name": "stdout",
     "output_type": "stream",
     "text": [
      "Populating the interactive namespace from numpy and matplotlib\n"
     ]
    }
   ],
   "source": [
    "from __future__ import print_function, division\n",
    "import numpy as np\n",
    "import pylab as pl\n",
    "import pandas as pd\n",
    "%pylab inline"
   ]
  },
  {
   "cell_type": "code",
   "execution_count": 2,
   "metadata": {
    "collapsed": false
   },
   "outputs": [
    {
     "data": {
      "text/html": [
       "<div>\n",
       "<table border=\"1\" class=\"dataframe\">\n",
       "  <thead>\n",
       "    <tr style=\"text-align: right;\">\n",
       "      <th></th>\n",
       "      <th>CAMIS</th>\n",
       "      <th>DBA</th>\n",
       "      <th>BORO</th>\n",
       "      <th>BUILDING</th>\n",
       "      <th>STREET</th>\n",
       "      <th>ZIPCODE</th>\n",
       "      <th>PHONE</th>\n",
       "      <th>CUISINE DESCRIPTION</th>\n",
       "      <th>INSPECTION DATE</th>\n",
       "      <th>ACTION</th>\n",
       "      <th>VIOLATION CODE</th>\n",
       "      <th>VIOLATION DESCRIPTION</th>\n",
       "      <th>CRITICAL FLAG</th>\n",
       "      <th>SCORE</th>\n",
       "      <th>GRADE</th>\n",
       "      <th>GRADE DATE</th>\n",
       "      <th>RECORD DATE</th>\n",
       "      <th>INSPECTION TYPE</th>\n",
       "    </tr>\n",
       "  </thead>\n",
       "  <tbody>\n",
       "    <tr>\n",
       "      <th>0</th>\n",
       "      <td>50039173</td>\n",
       "      <td>El Jalapeno</td>\n",
       "      <td>BRONX</td>\n",
       "      <td>800</td>\n",
       "      <td>E 149TH ST</td>\n",
       "      <td>10455</td>\n",
       "      <td>3475906989</td>\n",
       "      <td>Mexican</td>\n",
       "      <td>03/11/2016</td>\n",
       "      <td>Violations were cited in the following area(s).</td>\n",
       "      <td>06A</td>\n",
       "      <td>Personal cleanliness inadequate. Outer garment...</td>\n",
       "      <td>Critical</td>\n",
       "      <td>13.0</td>\n",
       "      <td>A</td>\n",
       "      <td>03/11/2016</td>\n",
       "      <td>10/26/2016</td>\n",
       "      <td>Cycle Inspection / Initial Inspection</td>\n",
       "    </tr>\n",
       "    <tr>\n",
       "      <th>1</th>\n",
       "      <td>41373712</td>\n",
       "      <td>TALENT THAI KITCHEN</td>\n",
       "      <td>MANHATTAN</td>\n",
       "      <td>210</td>\n",
       "      <td>EAST 34 STREET</td>\n",
       "      <td>10016</td>\n",
       "      <td>2127258888</td>\n",
       "      <td>Thai</td>\n",
       "      <td>11/20/2015</td>\n",
       "      <td>Violations were cited in the following area(s).</td>\n",
       "      <td>10B</td>\n",
       "      <td>Plumbing not properly installed or maintained;...</td>\n",
       "      <td>Not Critical</td>\n",
       "      <td>9.0</td>\n",
       "      <td>A</td>\n",
       "      <td>11/20/2015</td>\n",
       "      <td>10/26/2016</td>\n",
       "      <td>Cycle Inspection / Initial Inspection</td>\n",
       "    </tr>\n",
       "    <tr>\n",
       "      <th>2</th>\n",
       "      <td>41559999</td>\n",
       "      <td>DARKHORSE</td>\n",
       "      <td>MANHATTAN</td>\n",
       "      <td>17</td>\n",
       "      <td>MURRAY STREET</td>\n",
       "      <td>10007</td>\n",
       "      <td>2126083900</td>\n",
       "      <td>American</td>\n",
       "      <td>05/20/2016</td>\n",
       "      <td>Violations were cited in the following area(s).</td>\n",
       "      <td>04N</td>\n",
       "      <td>Filth flies or food/refuse/sewage-associated (...</td>\n",
       "      <td>Critical</td>\n",
       "      <td>13.0</td>\n",
       "      <td>A</td>\n",
       "      <td>05/20/2016</td>\n",
       "      <td>10/26/2016</td>\n",
       "      <td>Cycle Inspection / Initial Inspection</td>\n",
       "    </tr>\n",
       "    <tr>\n",
       "      <th>3</th>\n",
       "      <td>41488065</td>\n",
       "      <td>BOCA CHICA QUEENS</td>\n",
       "      <td>QUEENS</td>\n",
       "      <td>9620</td>\n",
       "      <td>37 AVENUE</td>\n",
       "      <td>11368</td>\n",
       "      <td>3472422226</td>\n",
       "      <td>Latin (Cuban, Dominican, Puerto Rican, South &amp;...</td>\n",
       "      <td>05/14/2013</td>\n",
       "      <td>Violations were cited in the following area(s).</td>\n",
       "      <td>10B</td>\n",
       "      <td>Plumbing not properly installed or maintained;...</td>\n",
       "      <td>Not Critical</td>\n",
       "      <td>13.0</td>\n",
       "      <td>A</td>\n",
       "      <td>05/14/2013</td>\n",
       "      <td>10/26/2016</td>\n",
       "      <td>Cycle Inspection / Initial Inspection</td>\n",
       "    </tr>\n",
       "    <tr>\n",
       "      <th>4</th>\n",
       "      <td>41626109</td>\n",
       "      <td>ALLSWELL</td>\n",
       "      <td>BROOKLYN</td>\n",
       "      <td>124</td>\n",
       "      <td>BEDFORD AVENUE</td>\n",
       "      <td>11249</td>\n",
       "      <td>3477992743</td>\n",
       "      <td>American</td>\n",
       "      <td>01/16/2014</td>\n",
       "      <td>Violations were cited in the following area(s).</td>\n",
       "      <td>06D</td>\n",
       "      <td>Food contact surface not properly washed, rins...</td>\n",
       "      <td>Critical</td>\n",
       "      <td>24.0</td>\n",
       "      <td>B</td>\n",
       "      <td>01/16/2014</td>\n",
       "      <td>10/26/2016</td>\n",
       "      <td>Cycle Inspection / Re-inspection</td>\n",
       "    </tr>\n",
       "  </tbody>\n",
       "</table>\n",
       "</div>"
      ],
      "text/plain": [
       "      CAMIS                  DBA       BORO BUILDING          STREET  ZIPCODE  \\\n",
       "0  50039173          El Jalapeno      BRONX      800      E 149TH ST    10455   \n",
       "1  41373712  TALENT THAI KITCHEN  MANHATTAN      210  EAST 34 STREET    10016   \n",
       "2  41559999            DARKHORSE  MANHATTAN       17   MURRAY STREET    10007   \n",
       "3  41488065    BOCA CHICA QUEENS     QUEENS     9620       37 AVENUE    11368   \n",
       "4  41626109             ALLSWELL   BROOKLYN      124  BEDFORD AVENUE    11249   \n",
       "\n",
       "        PHONE                                CUISINE DESCRIPTION  \\\n",
       "0  3475906989                                            Mexican   \n",
       "1  2127258888                                               Thai   \n",
       "2  2126083900                                           American   \n",
       "3  3472422226  Latin (Cuban, Dominican, Puerto Rican, South &...   \n",
       "4  3477992743                                           American   \n",
       "\n",
       "  INSPECTION DATE                                           ACTION  \\\n",
       "0      03/11/2016  Violations were cited in the following area(s).   \n",
       "1      11/20/2015  Violations were cited in the following area(s).   \n",
       "2      05/20/2016  Violations were cited in the following area(s).   \n",
       "3      05/14/2013  Violations were cited in the following area(s).   \n",
       "4      01/16/2014  Violations were cited in the following area(s).   \n",
       "\n",
       "  VIOLATION CODE                              VIOLATION DESCRIPTION  \\\n",
       "0            06A  Personal cleanliness inadequate. Outer garment...   \n",
       "1            10B  Plumbing not properly installed or maintained;...   \n",
       "2            04N  Filth flies or food/refuse/sewage-associated (...   \n",
       "3            10B  Plumbing not properly installed or maintained;...   \n",
       "4            06D  Food contact surface not properly washed, rins...   \n",
       "\n",
       "  CRITICAL FLAG  SCORE GRADE  GRADE DATE RECORD DATE  \\\n",
       "0      Critical   13.0     A  03/11/2016  10/26/2016   \n",
       "1  Not Critical    9.0     A  11/20/2015  10/26/2016   \n",
       "2      Critical   13.0     A  05/20/2016  10/26/2016   \n",
       "3  Not Critical   13.0     A  05/14/2013  10/26/2016   \n",
       "4      Critical   24.0     B  01/16/2014  10/26/2016   \n",
       "\n",
       "                         INSPECTION TYPE  \n",
       "0  Cycle Inspection / Initial Inspection  \n",
       "1  Cycle Inspection / Initial Inspection  \n",
       "2  Cycle Inspection / Initial Inspection  \n",
       "3  Cycle Inspection / Initial Inspection  \n",
       "4       Cycle Inspection / Re-inspection  "
      ]
     },
     "execution_count": 2,
     "metadata": {},
     "output_type": "execute_result"
    }
   ],
   "source": [
    "insp_data = pd.read_csv(\"https://data.cityofnewyork.us/api/views/xx67-kt59/rows.csv?accessType=DOWNLOAD\")\n",
    "insp_data.head()"
   ]
  },
  {
   "cell_type": "code",
   "execution_count": 3,
   "metadata": {
    "collapsed": false
   },
   "outputs": [
    {
     "data": {
      "text/plain": [
       "Index(['CAMIS', 'DBA', 'BORO', 'BUILDING', 'STREET', 'ZIPCODE', 'PHONE',\n",
       "       'CUISINE DESCRIPTION', 'INSPECTION DATE', 'ACTION', 'VIOLATION CODE',\n",
       "       'VIOLATION DESCRIPTION', 'CRITICAL FLAG', 'SCORE', 'GRADE',\n",
       "       'GRADE DATE', 'RECORD DATE', 'INSPECTION TYPE'],\n",
       "      dtype='object')"
      ]
     },
     "execution_count": 3,
     "metadata": {},
     "output_type": "execute_result"
    }
   ],
   "source": [
    "insp_data.columns"
   ]
  },
  {
   "cell_type": "code",
   "execution_count": 4,
   "metadata": {
    "collapsed": false
   },
   "outputs": [
    {
     "name": "stderr",
     "output_type": "stream",
     "text": [
      "/opt/rh/anaconda/root/envs/PUI2016_Python3/lib/python3.5/site-packages/ipykernel/__main__.py:2: FutureWarning: sort(columns=....) is deprecated, use sort_values(by=.....)\n",
      "  from ipykernel import kernelapp as app\n"
     ]
    },
    {
     "data": {
      "text/html": [
       "<div>\n",
       "<table border=\"1\" class=\"dataframe\">\n",
       "  <thead>\n",
       "    <tr style=\"text-align: right;\">\n",
       "      <th></th>\n",
       "      <th>BORO</th>\n",
       "      <th>CUISINE DESCRIPTION</th>\n",
       "      <th>CRITICAL FLAG</th>\n",
       "    </tr>\n",
       "  </thead>\n",
       "  <tbody>\n",
       "    <tr>\n",
       "      <th>0</th>\n",
       "      <td>BRONX</td>\n",
       "      <td>Mexican</td>\n",
       "      <td>Critical</td>\n",
       "    </tr>\n",
       "    <tr>\n",
       "      <th>393241</th>\n",
       "      <td>BRONX</td>\n",
       "      <td>Chinese</td>\n",
       "      <td>Not Critical</td>\n",
       "    </tr>\n",
       "    <tr>\n",
       "      <th>52180</th>\n",
       "      <td>BRONX</td>\n",
       "      <td>Chinese</td>\n",
       "      <td>Not Critical</td>\n",
       "    </tr>\n",
       "    <tr>\n",
       "      <th>393238</th>\n",
       "      <td>BRONX</td>\n",
       "      <td>Caribbean</td>\n",
       "      <td>Not Critical</td>\n",
       "    </tr>\n",
       "    <tr>\n",
       "      <th>292984</th>\n",
       "      <td>BRONX</td>\n",
       "      <td>Pizza</td>\n",
       "      <td>Critical</td>\n",
       "    </tr>\n",
       "  </tbody>\n",
       "</table>\n",
       "</div>"
      ],
      "text/plain": [
       "         BORO CUISINE DESCRIPTION CRITICAL FLAG\n",
       "0       BRONX             Mexican      Critical\n",
       "393241  BRONX             Chinese  Not Critical\n",
       "52180   BRONX             Chinese  Not Critical\n",
       "393238  BRONX           Caribbean  Not Critical\n",
       "292984  BRONX               Pizza      Critical"
      ]
     },
     "execution_count": 4,
     "metadata": {},
     "output_type": "execute_result"
    }
   ],
   "source": [
    "i_data1 = insp_data[['BORO','CUISINE DESCRIPTION','CRITICAL FLAG']]\n",
    "i_data1.sort(['BORO']).head()"
   ]
  },
  {
   "cell_type": "code",
   "execution_count": 5,
   "metadata": {
    "collapsed": false
   },
   "outputs": [
    {
     "data": {
      "text/html": [
       "<div>\n",
       "<table border=\"1\" class=\"dataframe\">\n",
       "  <thead>\n",
       "    <tr style=\"text-align: right;\">\n",
       "      <th></th>\n",
       "      <th>BORO</th>\n",
       "      <th>CUISINE DESCRIPTION</th>\n",
       "      <th>CRITICAL FLAG</th>\n",
       "    </tr>\n",
       "  </thead>\n",
       "  <tbody>\n",
       "    <tr>\n",
       "      <th>0</th>\n",
       "      <td>BRONX</td>\n",
       "      <td>Mexican</td>\n",
       "      <td>Critical</td>\n",
       "    </tr>\n",
       "    <tr>\n",
       "      <th>2</th>\n",
       "      <td>MANHATTAN</td>\n",
       "      <td>American</td>\n",
       "      <td>Critical</td>\n",
       "    </tr>\n",
       "    <tr>\n",
       "      <th>4</th>\n",
       "      <td>BROOKLYN</td>\n",
       "      <td>American</td>\n",
       "      <td>Critical</td>\n",
       "    </tr>\n",
       "    <tr>\n",
       "      <th>5</th>\n",
       "      <td>BROOKLYN</td>\n",
       "      <td>American</td>\n",
       "      <td>Critical</td>\n",
       "    </tr>\n",
       "    <tr>\n",
       "      <th>8</th>\n",
       "      <td>MANHATTAN</td>\n",
       "      <td>Italian</td>\n",
       "      <td>Critical</td>\n",
       "    </tr>\n",
       "  </tbody>\n",
       "</table>\n",
       "</div>"
      ],
      "text/plain": [
       "        BORO CUISINE DESCRIPTION CRITICAL FLAG\n",
       "0      BRONX             Mexican      Critical\n",
       "2  MANHATTAN            American      Critical\n",
       "4   BROOKLYN            American      Critical\n",
       "5   BROOKLYN            American      Critical\n",
       "8  MANHATTAN             Italian      Critical"
      ]
     },
     "execution_count": 5,
     "metadata": {},
     "output_type": "execute_result"
    }
   ],
   "source": [
    "i_data2 = i_data1[~i_data1['CRITICAL FLAG'].str.contains(\"Not Critical\")]\n",
    "i_data2.head()\n",
    "\n",
    "# BORO > COUNT OF CUISINE TYPES THAT ARE ALL CRITICAL\n",
    "\n",
    "# rpt[rpt['STK_ID'].str.contains('|'.join(endstrings)]"
   ]
  },
  {
   "cell_type": "code",
   "execution_count": 6,
   "metadata": {
    "collapsed": false
   },
   "outputs": [
    {
     "name": "stderr",
     "output_type": "stream",
     "text": [
      "/opt/rh/anaconda/root/envs/PUI2016_Python3/lib/python3.5/site-packages/ipykernel/__main__.py:1: SettingWithCopyWarning: \n",
      "A value is trying to be set on a copy of a slice from a DataFrame.\n",
      "Try using .loc[row_indexer,col_indexer] = value instead\n",
      "\n",
      "See the caveats in the documentation: http://pandas.pydata.org/pandas-docs/stable/indexing.html#indexing-view-versus-copy\n",
      "  if __name__ == '__main__':\n",
      "/opt/rh/anaconda/root/envs/PUI2016_Python3/lib/python3.5/site-packages/pandas/core/generic.py:4485: SettingWithCopyWarning: \n",
      "A value is trying to be set on a copy of a slice from a DataFrame\n",
      "\n",
      "See the caveats in the documentation: http://pandas.pydata.org/pandas-docs/stable/indexing.html#indexing-view-versus-copy\n",
      "  self._update_inplace(new_data)\n",
      "/opt/rh/anaconda/root/envs/PUI2016_Python3/lib/python3.5/site-packages/IPython/core/interactiveshell.py:2881: SettingWithCopyWarning: \n",
      "A value is trying to be set on a copy of a slice from a DataFrame\n",
      "\n",
      "See the caveats in the documentation: http://pandas.pydata.org/pandas-docs/stable/indexing.html#indexing-view-versus-copy\n",
      "  exec(code_obj, self.user_global_ns, self.user_ns)\n",
      "/opt/rh/anaconda/root/envs/PUI2016_Python3/lib/python3.5/site-packages/ipykernel/__main__.py:5: SettingWithCopyWarning: \n",
      "A value is trying to be set on a copy of a slice from a DataFrame.\n",
      "Try using .loc[row_indexer,col_indexer] = value instead\n",
      "\n",
      "See the caveats in the documentation: http://pandas.pydata.org/pandas-docs/stable/indexing.html#indexing-view-versus-copy\n",
      "/opt/rh/anaconda/root/envs/PUI2016_Python3/lib/python3.5/site-packages/ipykernel/__main__.py:9: SettingWithCopyWarning: \n",
      "A value is trying to be set on a copy of a slice from a DataFrame.\n",
      "Try using .loc[row_indexer,col_indexer] = value instead\n",
      "\n",
      "See the caveats in the documentation: http://pandas.pydata.org/pandas-docs/stable/indexing.html#indexing-view-versus-copy\n",
      "/opt/rh/anaconda/root/envs/PUI2016_Python3/lib/python3.5/site-packages/ipykernel/__main__.py:13: SettingWithCopyWarning: \n",
      "A value is trying to be set on a copy of a slice from a DataFrame.\n",
      "Try using .loc[row_indexer,col_indexer] = value instead\n",
      "\n",
      "See the caveats in the documentation: http://pandas.pydata.org/pandas-docs/stable/indexing.html#indexing-view-versus-copy\n",
      "/opt/rh/anaconda/root/envs/PUI2016_Python3/lib/python3.5/site-packages/ipykernel/__main__.py:14: SettingWithCopyWarning: \n",
      "A value is trying to be set on a copy of a slice from a DataFrame.\n",
      "Try using .loc[row_indexer,col_indexer] = value instead\n",
      "\n",
      "See the caveats in the documentation: http://pandas.pydata.org/pandas-docs/stable/indexing.html#indexing-view-versus-copy\n"
     ]
    },
    {
     "data": {
      "text/html": [
       "<div>\n",
       "<table border=\"1\" class=\"dataframe\">\n",
       "  <thead>\n",
       "    <tr style=\"text-align: right;\">\n",
       "      <th></th>\n",
       "      <th>BORO</th>\n",
       "      <th>CUISINE DESCRIPTION</th>\n",
       "      <th>CRITICAL FLAG</th>\n",
       "      <th>MEX_CNT</th>\n",
       "      <th>AM_CNT</th>\n",
       "      <th>ITL_CNT</th>\n",
       "      <th>TOT_CNT</th>\n",
       "    </tr>\n",
       "  </thead>\n",
       "  <tbody>\n",
       "    <tr>\n",
       "      <th>0</th>\n",
       "      <td>BRONX</td>\n",
       "      <td>Mexican</td>\n",
       "      <td>Critical</td>\n",
       "      <td>1</td>\n",
       "      <td>0</td>\n",
       "      <td>0</td>\n",
       "      <td>1</td>\n",
       "    </tr>\n",
       "    <tr>\n",
       "      <th>2</th>\n",
       "      <td>MANHATTAN</td>\n",
       "      <td>American</td>\n",
       "      <td>Critical</td>\n",
       "      <td>0</td>\n",
       "      <td>1</td>\n",
       "      <td>0</td>\n",
       "      <td>1</td>\n",
       "    </tr>\n",
       "    <tr>\n",
       "      <th>4</th>\n",
       "      <td>BROOKLYN</td>\n",
       "      <td>American</td>\n",
       "      <td>Critical</td>\n",
       "      <td>0</td>\n",
       "      <td>1</td>\n",
       "      <td>0</td>\n",
       "      <td>1</td>\n",
       "    </tr>\n",
       "    <tr>\n",
       "      <th>5</th>\n",
       "      <td>BROOKLYN</td>\n",
       "      <td>American</td>\n",
       "      <td>Critical</td>\n",
       "      <td>0</td>\n",
       "      <td>1</td>\n",
       "      <td>0</td>\n",
       "      <td>1</td>\n",
       "    </tr>\n",
       "    <tr>\n",
       "      <th>8</th>\n",
       "      <td>MANHATTAN</td>\n",
       "      <td>Italian</td>\n",
       "      <td>Critical</td>\n",
       "      <td>0</td>\n",
       "      <td>0</td>\n",
       "      <td>1</td>\n",
       "      <td>1</td>\n",
       "    </tr>\n",
       "  </tbody>\n",
       "</table>\n",
       "</div>"
      ],
      "text/plain": [
       "        BORO CUISINE DESCRIPTION CRITICAL FLAG MEX_CNT AM_CNT ITL_CNT  TOT_CNT\n",
       "0      BRONX             Mexican      Critical       1      0       0        1\n",
       "2  MANHATTAN            American      Critical       0      1       0        1\n",
       "4   BROOKLYN            American      Critical       0      1       0        1\n",
       "5   BROOKLYN            American      Critical       0      1       0        1\n",
       "8  MANHATTAN             Italian      Critical       0      0       1        1"
      ]
     },
     "execution_count": 6,
     "metadata": {},
     "output_type": "execute_result"
    }
   ],
   "source": [
    "i_data2['MEX_CNT'] = ''\n",
    "i_data2['MEX_CNT'][i_data2['CUISINE DESCRIPTION'].str.contains(\"Mexican\")] = 1 \n",
    "i_data2['MEX_CNT'][~i_data2['CUISINE DESCRIPTION'].str.contains(\"Mexican\")] = 0\n",
    "\n",
    "i_data2['AM_CNT'] = ''\n",
    "i_data2['AM_CNT'][i_data2['CUISINE DESCRIPTION'].str.contains(\"American\")] = 1 \n",
    "i_data2['AM_CNT'][~i_data2['CUISINE DESCRIPTION'].str.contains(\"American\")] = 0\n",
    "\n",
    "i_data2['ITL_CNT'] = ''\n",
    "i_data2['ITL_CNT'][i_data2['CUISINE DESCRIPTION'].str.contains(\"Italian\")] = 1 \n",
    "i_data2['ITL_CNT'][~i_data2['CUISINE DESCRIPTION'].str.contains(\"Italian\")] = 0\n",
    "\n",
    "i_data2['TOT_CNT'] = ''\n",
    "i_data2['TOT_CNT'] = 1 \n",
    "\n",
    "i_data2.head()"
   ]
  },
  {
   "cell_type": "code",
   "execution_count": 7,
   "metadata": {
    "collapsed": false
   },
   "outputs": [
    {
     "name": "stderr",
     "output_type": "stream",
     "text": [
      "/opt/rh/anaconda/root/envs/PUI2016_Python3/lib/python3.5/site-packages/ipykernel/__main__.py:6: FutureWarning: sort(columns=....) is deprecated, use sort_values(by=.....)\n"
     ]
    },
    {
     "data": {
      "text/html": [
       "<div>\n",
       "<table border=\"1\" class=\"dataframe\">\n",
       "  <thead>\n",
       "    <tr style=\"text-align: right;\">\n",
       "      <th></th>\n",
       "      <th>BORO</th>\n",
       "      <th>MEX_CNT</th>\n",
       "      <th>AM_CNT</th>\n",
       "      <th>ITL_CNT</th>\n",
       "    </tr>\n",
       "  </thead>\n",
       "  <tbody>\n",
       "    <tr>\n",
       "      <th>0</th>\n",
       "      <td>BRONX</td>\n",
       "      <td>1</td>\n",
       "      <td>0</td>\n",
       "      <td>0</td>\n",
       "    </tr>\n",
       "    <tr>\n",
       "      <th>98054</th>\n",
       "      <td>BRONX</td>\n",
       "      <td>0</td>\n",
       "      <td>0</td>\n",
       "      <td>0</td>\n",
       "    </tr>\n",
       "    <tr>\n",
       "      <th>98068</th>\n",
       "      <td>BRONX</td>\n",
       "      <td>0</td>\n",
       "      <td>1</td>\n",
       "      <td>0</td>\n",
       "    </tr>\n",
       "    <tr>\n",
       "      <th>98083</th>\n",
       "      <td>BRONX</td>\n",
       "      <td>0</td>\n",
       "      <td>0</td>\n",
       "      <td>0</td>\n",
       "    </tr>\n",
       "    <tr>\n",
       "      <th>98085</th>\n",
       "      <td>BRONX</td>\n",
       "      <td>0</td>\n",
       "      <td>1</td>\n",
       "      <td>0</td>\n",
       "    </tr>\n",
       "  </tbody>\n",
       "</table>\n",
       "</div>"
      ],
      "text/plain": [
       "        BORO MEX_CNT AM_CNT ITL_CNT\n",
       "0      BRONX       1      0       0\n",
       "98054  BRONX       0      0       0\n",
       "98068  BRONX       0      1       0\n",
       "98083  BRONX       0      0       0\n",
       "98085  BRONX       0      1       0"
      ]
     },
     "execution_count": 7,
     "metadata": {},
     "output_type": "execute_result"
    }
   ],
   "source": [
    "# i_data3 = i_data2.groupby(i_data2['BORO']).count()\n",
    "i_data3 = []\n",
    "i_data3 = i_data2[~i_data2['BORO'].str.contains(\"Missing\")]\n",
    "i_data3.head()\n",
    "i_data3 = i_data3[['BORO','MEX_CNT','AM_CNT','ITL_CNT']]\n",
    "i_data3.sort(['BORO']).head()"
   ]
  },
  {
   "cell_type": "code",
   "execution_count": 27,
   "metadata": {
    "collapsed": false
   },
   "outputs": [
    {
     "data": {
      "text/html": [
       "<div>\n",
       "<table border=\"1\" class=\"dataframe\">\n",
       "  <thead>\n",
       "    <tr style=\"text-align: right;\">\n",
       "      <th></th>\n",
       "      <th>MEX_CNT</th>\n",
       "      <th>AM_CNT</th>\n",
       "      <th>ITL_CNT</th>\n",
       "      <th>TOT_CNT</th>\n",
       "    </tr>\n",
       "    <tr>\n",
       "      <th>BORO</th>\n",
       "      <th></th>\n",
       "      <th></th>\n",
       "      <th></th>\n",
       "      <th></th>\n",
       "    </tr>\n",
       "  </thead>\n",
       "  <tbody>\n",
       "    <tr>\n",
       "      <th>BRONX</th>\n",
       "      <td>1173</td>\n",
       "      <td>5920</td>\n",
       "      <td>1318</td>\n",
       "      <td>8411</td>\n",
       "    </tr>\n",
       "    <tr>\n",
       "      <th>BROOKLYN</th>\n",
       "      <td>2848</td>\n",
       "      <td>13862</td>\n",
       "      <td>3441</td>\n",
       "      <td>20151</td>\n",
       "    </tr>\n",
       "    <tr>\n",
       "      <th>MANHATTAN</th>\n",
       "      <td>3199</td>\n",
       "      <td>32880</td>\n",
       "      <td>7999</td>\n",
       "      <td>44078</td>\n",
       "    </tr>\n",
       "    <tr>\n",
       "      <th>QUEENS</th>\n",
       "      <td>1843</td>\n",
       "      <td>13865</td>\n",
       "      <td>2681</td>\n",
       "      <td>18389</td>\n",
       "    </tr>\n",
       "    <tr>\n",
       "      <th>STATEN ISLAND</th>\n",
       "      <td>367</td>\n",
       "      <td>2357</td>\n",
       "      <td>1558</td>\n",
       "      <td>4282</td>\n",
       "    </tr>\n",
       "  </tbody>\n",
       "</table>\n",
       "</div>"
      ],
      "text/plain": [
       "               MEX_CNT  AM_CNT  ITL_CNT  TOT_CNT\n",
       "BORO                                            \n",
       "BRONX             1173    5920     1318     8411\n",
       "BROOKLYN          2848   13862     3441    20151\n",
       "MANHATTAN         3199   32880     7999    44078\n",
       "QUEENS            1843   13865     2681    18389\n",
       "STATEN ISLAND      367    2357     1558     4282"
      ]
     },
     "execution_count": 27,
     "metadata": {},
     "output_type": "execute_result"
    }
   ],
   "source": [
    "i_data_s = i_data3.groupby(i_data3['BORO']).sum()\n",
    "i_data_s['TOT_CNT'] = ''\n",
    "i_data_s['TOT_CNT'] = i_data_s['MEX_CNT'] + i_data_s['AM_CNT'] + i_data_s['ITL_CNT']\n",
    "i_data_s"
   ]
  },
  {
   "cell_type": "code",
   "execution_count": 36,
   "metadata": {
    "collapsed": false
   },
   "outputs": [
    {
     "data": {
      "text/plain": [
       "<matplotlib.legend.Legend at 0x7f2a41154908>"
      ]
     },
     "execution_count": 36,
     "metadata": {},
     "output_type": "execute_result"
    },
    {
     "data": {
      "image/png": "[encoded data removed]",
      "text/plain": [
       "<matplotlib.figure.Figure at 0x7f2a40059358>"
      ]
     },
     "metadata": {},
     "output_type": "display_data"
    }
   ],
   "source": [
    "fig = pl.figure(figsize(10,5))\n",
    "\n",
    "ax = i_data_s['TOT_CNT'].plot(kind=\"bar\",color='khaki', alpha=0.5, label='Total', table=True)\n",
    "ax = i_data_s['AM_CNT'].plot(kind=\"bar\",color='IndianRed', alpha=0.2,label='American')\n",
    "ax = i_data_s['ITL_CNT'].plot(kind=\"bar\",color='Yellow', alpha=0.5,label='Italian')\n",
    "ax = i_data_s['MEX_CNT'].plot(kind=\"bar\",color='green', alpha=0.5,label='Mexican')\n",
    "\n",
    "# i_data_s = i_data_s.groupby(['Site Name', 'Abuse/NFF'])['Site Name'].count().unstack('Abuse/NFF').fillna(0)\n",
    "# test5.plot(kind='bar', stacked=True)\n",
    "\n",
    "# pl.xticks(i_data_s.index)\n",
    "#ax = sumboro.plot(kind = 'bar',table = True)\n",
    "#ax = sumboro['NUMBER OF MOTORIST INJURED'].hist()\n",
    "#sumboro1.plot(kind = 'bar', color='firebrick' ,stacked = True)\n",
    "tmp = ax.xaxis.set_ticklabels(['         ', '', '          ', '', ''], fontsize=10)\n",
    "ax.set_title('NYC Restaurants by Borough with Critical Inspection rating for 3 Cuisine Types')\n",
    "ax.set_ylabel (\"Numbers of Restuarants\")\n",
    "ax.set_xlabel (\" \")\n",
    "pl.legend()"
   ]
  },
  {
   "cell_type": "markdown",
   "metadata": {},
   "source": [
    "## Figure 1: New York City Restaurants with Critical Inspection rating for 3 Cuisine Types           (Inspection data for 22-Aug-2014)"
   ]
  },
  {
   "cell_type": "markdown",
   "metadata": {},
   "source": [
    "### As seen in the above stacked bar plot for the 5 boroughts of New York City, the restaurants for 3 cuisine types with critical ratings is seen. The cuisine types part of this analysis are American, Italian, and Mexican. This analysis shows the proportion of restaurants inspected as CRITICAL and their locations. "
   ]
  },
  {
   "cell_type": "code",
   "execution_count": null,
   "metadata": {
    "collapsed": true
   },
   "outputs": [],
   "source": []
  }
 ],
 "metadata": {
  "kernelspec": {
   "display_name": "PUI2016_Python3",
   "language": "python",
   "name": "pui2016_python3"
  },
  "language_info": {
   "codemirror_mode": {
    "name": "ipython",
    "version": 3
   },
   "file_extension": ".py",
   "mimetype": "text/x-python",
   "name": "python",
   "nbconvert_exporter": "python",
   "pygments_lexer": "ipython3",
   "version": "3.5.2"
  }
 },
 "nbformat": 4,
 "nbformat_minor": 0
}
